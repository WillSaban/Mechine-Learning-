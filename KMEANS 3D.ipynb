{
 "cells": [
  {
   "cell_type": "code",
   "execution_count": null,
   "id": "f7f019b0",
   "metadata": {},
   "outputs": [],
   "source": [
    "import numpy as np\n",
    "from sklearn import datasets\n",
    "import random\n",
    "warnings.filterwarnings('ignore')\n",
    "iris=datasets.load_iris()\n",
    "x=iris.data\n",
    "target=iris.target\n",
    "min_of_features=np.zeros((1,3))\n",
    "max_of_features=np.zeros((1,3))\n",
    "for i in range(3):\n",
    "    min_of_features[0,i]=min(x[:,i])\n",
    "    max_of_features[0,i]=max(x[:,i])\n",
    "cluster_centers=np.zeros((3,3))\n",
    "for i in range(3):\n",
    "    for j in range(3):\n",
    "        cluster_centers[i,j]=round(random.uniform(min_of_features[0,j],max_of_features[0,j]),3)\n",
    "        \n",
    "        \n"
   ]
  },
  {
   "cell_type": "code",
   "execution_count": null,
   "id": "5c44cabb",
   "metadata": {},
   "outputs": [],
   "source": [
    "#a  is the row vector including 4 features(only 3 will be used)\n",
    "#b is a 3x3 matrix containing cluster centers\n",
    "def distance_find(a,b):\n",
    "    total_1=np.square(a[0]-b[0,0])+np.square(a[1]-b[0,1])+np.square(a[2]-b[0,2])\n",
    "    \n",
    "    total_2=np.square(a[0]-b[1,0])+np.square(a[1]-b[1,1])+np.square(a[2]-b[1,2])\n",
    "    \n",
    "    total_3=np.square(a[0]-b[2,0])+np.square(a[1]-b[2,1])+np.square(a[2]-b[2,2])\n",
    "    \n",
    "    vec=np.array([total_1,total_2,total_3])\n",
    "    if min(vec)==total_1:\n",
    "        return 0\n",
    "    elif min(vec)==total_2:\n",
    "        return 1\n",
    "    elif min(vec)==total_3:\n",
    "        return 2"
   ]
  },
  {
   "cell_type": "code",
   "execution_count": null,
   "id": "4403494a",
   "metadata": {},
   "outputs": [],
   "source": [
    "def mean_finder():\n",
    "    cluster_new=np.zeros((3,3))\n",
    "    for i in range(3):\n",
    "        number_of_elements=sum(cluster_labels==i)\n",
    "        for j in range(3):\n",
    "            total=0\n",
    "            for z in range(len(cluster_labels)):\n",
    "                if cluster_labels[z]==i:\n",
    "                    total=total+x[z,j]\n",
    "                else:\n",
    "                    total=total\n",
    "            cluster_new[i,j]=round(total/(number_of_elements[0]+0.001),4)\n",
    "    return cluster_new"
   ]
  },
  {
   "cell_type": "code",
   "execution_count": null,
   "id": "f1555431",
   "metadata": {},
   "outputs": [],
   "source": [
    "cluster_labels=np.zeros((len(x),1))\n",
    "for iteration in range(15):\n",
    "    for i in range(len(x)):\n",
    "        row=x[i,:]\n",
    "        cluster_labels[i]=distance_find(row,cluster_centers)\n",
    "    cluster_centers=mean_finder()"
   ]
  },
  {
   "cell_type": "code",
   "execution_count": null,
   "id": "b0021c40",
   "metadata": {},
   "outputs": [],
   "source": [
    "\n",
    "fig = plt.figure(figsize=(12,12))\n",
    "ax = fig.add_subplot(projection='3d')\n",
    "ax.scatter(x[:50,0],x[:50,1],x[:50,2],color='red',s=90)\n",
    "ax.scatter(x[50:100,0],x[50:100,1],x[50:100,2],color='green',s=90)\n",
    "ax.scatter(x[100:150,0],x[100:150,1],x[100:150,2],color='blue',s=90)\n",
    "ax.set_xlabel('Memory', fontsize=20)\n",
    "ax.set_ylabel('Attention', fontsize=20)\n",
    "ax.set_zlabel('Executive functions', fontsize=20)\n",
    "ax.legend(['Profile 1','Profile 2', 'Profile 3' ], loc=[.35, .75], fontsize=16)\n",
    "plt.xticks(fontsize=12)\n",
    "plt.yticks(fontsize=12) \n",
    "\n",
    "ax.set_xticklabels([-3,-2,-1,0,1,2,3,4])\n",
    "ax.set_yticklabels([-3,-2,-1,0,1,2,3,4])\n",
    "ax.set_zticklabels([-3,-2,-1,0,1,2,3,4])\n",
    "plt.show()\n",
    "\n",
    "fig.savefig('K-MEANS Fig.png')\n"
   ]
  }
 ],
 "metadata": {
  "kernelspec": {
   "display_name": "Python 3 (ipykernel)",
   "language": "python",
   "name": "python3"
  },
  "language_info": {
   "codemirror_mode": {
    "name": "ipython",
    "version": 3
   },
   "file_extension": ".py",
   "mimetype": "text/x-python",
   "name": "python",
   "nbconvert_exporter": "python",
   "pygments_lexer": "ipython3",
   "version": "3.7.3"
  }
 },
 "nbformat": 4,
 "nbformat_minor": 5
}
